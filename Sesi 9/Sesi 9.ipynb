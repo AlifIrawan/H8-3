{
 "cells": [
  {
   "cell_type": "markdown",
   "id": "a8ce4694",
   "metadata": {},
   "source": [
    "# Descriptive Statistic\n",
    "\n",
    "Descriptive Statistic (Statistik Deskriptif) **melibatkan meringkas/summarizing dan mengatur data sehingga dapat dengan mudah dipahami**. Tidak seperti Statistik inferensial, berupaya mendeskripsikan data tetapi tidak mencoba membuat kesimpulan dari sampel ke seluruh populasi.\n",
    "\n",
    "Statisitka Deskriptif membantu kita memahami data dan merupakan bagian yang sangat penting dari Machine Learning. Karena **Machine Learning adalah tentang membuat Prediksi**. Disisi lain, **Statistik adalah tentang menarik kesimpulan dari data**.\n",
    "\n",
    "**Statistika Deskriptif akan membantu kita lebih memahami apa yang coba diceritakan oleh data kita**, Yang akan menghasilkan model dan pemahaman machine learning yang lebih baik secara keseluruhan.\n",
    "\n",
    "\n",
    "Statistika Deskriptif dipecah menjadi 2 kategori yaitu :\n",
    "- *Measures of Central Tendency*\n",
    "- *Measures Variability (Spread)*"
   ]
  },
  {
   "cell_type": "markdown",
   "id": "c8c2cd6c",
   "metadata": {},
   "source": [
    "## Measures of Central Tendency\n",
    "\n",
    "Mengacu pada gagasan bahwa ada satu bilangan yang paling baik untuk meringkas seluruh rangkaian pengukuran, Sebuah bilangan yang dalam beberapa hal merupakan \"Central\" dari himpunan tersebut."
   ]
  },
  {
   "cell_type": "markdown",
   "id": "8d53364e",
   "metadata": {},
   "source": [
    "### Mean / Average\n",
    "Adalah central tendency dari data, angka diantara seluruh data tersebar. **Mean hanyalah rata rata dan dianggap sebagai ukuran tendensi sentral yang paling andal untuk membuat asumsi tentang suatu populasi dari satu sample**. "
   ]
  },
  {
   "attachments": {
    "1_6vrdyZV-hPVoX5bKoGGAyQ.png": {
     "image/png": "[encoded data removed]"
    }
   },
   "cell_type": "markdown",
   "id": "39ac7ac9",
   "metadata": {},
   "source": [
    "![1_6vrdyZV-hPVoX5bKoGGAyQ.png](attachment:1_6vrdyZV-hPVoX5bKoGGAyQ.png)"
   ]
  },
  {
   "cell_type": "markdown",
   "id": "e59a9ffa",
   "metadata": {},
   "source": [
    "### Median\n",
    "Adalah nilai yang membagi data dalam 2 bagian yang sama yaitu jumlah suku di sisi kanannya sama dengan jumlah suku di sisi kirinya saat data disusun dalam urutan naik atau turun. **Median adalah nilai \"tengah\" atau titik tengah dalam data kita dan juga disebut \"persentil ke-50\"**.\n",
    "\n",
    "- Median adalah nilai tengah, jika jumlah nilai ganjil\n",
    "- Median adalah rata rata dari 2 nilai tengah, jika jumlah nilai genap "
   ]
  },
  {
   "attachments": {
    "1_2YOAjDJdtB5qSByZqSSuzg.png": {
     "image/png": "[encoded data removed]"
    }
   },
   "cell_type": "markdown",
   "id": "2a133672",
   "metadata": {},
   "source": [
    "![1_2YOAjDJdtB5qSByZqSSuzg.png](attachment:1_2YOAjDJdtB5qSByZqSSuzg.png)"
   ]
  },
  {
   "cell_type": "markdown",
   "id": "877b885b",
   "metadata": {},
   "source": [
    "Dari diatas mediannya adalah 59, ***Karena bilangan genap dalam himpunan tersebut. Jawabannya adalah rata rata dari bilangan tengah 51 - 67***"
   ]
  },
  {
   "cell_type": "markdown",
   "id": "f7e50c12",
   "metadata": {},
   "source": [
    "### Mode\n",
    "\n",
    "Adalah **nilai yang muncul secara maksimum dalam kumpulan data**, nilai yang memiliki frekuensi tertinggi. **Modus adalah nilai atau kategori yang sering muncul dalam data**. \n",
    "\n",
    "*set data tidak memiliki mode*, **jika tidak ada nomor yang diulangi atau jika tidak ada kategori yang sama**. Mode juga merupakan satu-satunya ukuran tendensi sentral yang dapat digunakan untuk variable kategori karena kita tidak dapat menghitungnya. \n",
    "\n",
    "Misalnya rata rata untuk variable **\"gender\"** atau **\"warna\"**, kita cukup **melaporkan variable kategori sebagai angka dan presentase**"
   ]
  },
  {
   "attachments": {
    "1_xP8y25SjrptUu958fSL_-A.png": {
     "image/png": "[encoded data removed]"
    }
   },
   "cell_type": "markdown",
   "id": "3875d8f7",
   "metadata": {},
   "source": [
    "![1_xP8y25SjrptUu958fSL_-A.png](attachment:1_xP8y25SjrptUu958fSL_-A.png)"
   ]
  },
  {
   "cell_type": "markdown",
   "id": "72b4ff9b",
   "metadata": {},
   "source": [
    "Dalam kumpulan data ini, mode-nya adalah 67 karena memiliki frekuensi lebih dari nilai lainnya, yaitu 2 kali.\n",
    "\n",
    "***Tetapi mungkin ada*** kumpulan data dimana tidak ada mode sama sekali karena semua nilai muncul dalam jumlah yang sama. \n",
    "\n",
    "Jika 2 nilai muncul pada waktu yang sama dan lebih dari nilai lainnya maka kumpulan datanya adalah **bimodal**. Jika 3 nilai muncul pada waktu yang sama dan lebih dari nilai lainnnya maka kumpulan datanya adalah **trimodal** dan untuk n mode kumpulan data tersebut adalah **multimodal**."
   ]
  },
  {
   "cell_type": "markdown",
   "id": "5a166d31",
   "metadata": {},
   "source": [
    "## Measure of Spread\n",
    "digunakan untuk mengukur seberapa \"bagus\" mean merepresentasikan kumpulan data (How far away data from the center)"
   ]
  },
  {
   "cell_type": "markdown",
   "id": "f8e38462",
   "metadata": {},
   "source": [
    "### Standard deviation\n",
    "Pengukuran jarak rata rata antara setiap besaran dan mean, Artinya bagaimana data disebarkan/seberapa tersebar data dari mean. **Standar deviasi yang rendah** menunjukkan bahwa titik data cenderung mendekati rata rata kumpulan data. Sedangkan, **Standar deviasi yang tinggi** menunjukkan bahwa titik data tersebar di nilai yang lebih luas.\n",
    "\n",
    "Ada situasi ketika harus meilih antara **sample** atau **population** Standard Deviation\n",
    "\n",
    "Ketika kita diminta untuk menemukan SD dari beberapa bagian populasi, segmen populasi : kita gunakan **sample Standart Deviation**"
   ]
  },
  {
   "attachments": {
    "1_DTUYZ_osm1BehYiPWGnGmA.png": {
     "image/png": "[encoded data removed]"
    }
   },
   "cell_type": "markdown",
   "id": "c2f9e506",
   "metadata": {},
   "source": [
    "![1_DTUYZ_osm1BehYiPWGnGmA.png](attachment:1_DTUYZ_osm1BehYiPWGnGmA.png)"
   ]
  },
  {
   "cell_type": "markdown",
   "id": "6fbd593a",
   "metadata": {},
   "source": [
    "Dimana ˉx adalah mean dari Sample"
   ]
  },
  {
   "cell_type": "markdown",
   "id": "9626a732",
   "metadata": {},
   "source": [
    "Tetapi ketika kita harus menangani keseluruhan populasi. Maka kita gunakan **population Standard Deviation**"
   ]
  },
  {
   "attachments": {
    "1_6ECfKYwsGm79ZxxxFrwvUA.png": {
     "image/png": "[encoded data removed]"
    }
   },
   "cell_type": "markdown",
   "id": "c144a5ad",
   "metadata": {},
   "source": [
    "![1_6ECfKYwsGm79ZxxxFrwvUA.png](attachment:1_6ECfKYwsGm79ZxxxFrwvUA.png)"
   ]
  },
  {
   "cell_type": "markdown",
   "id": "c883abf2",
   "metadata": {},
   "source": [
    "Dimana μ adalah mean dari Population"
   ]
  },
  {
   "cell_type": "markdown",
   "id": "80cb31f6",
   "metadata": {},
   "source": [
    "Seperti yang kita ketahui statistik deskriptif, **kita biasanya berurusan dengan data yang tersedia dalam sample** bukan dalam populasi."
   ]
  },
  {
   "cell_type": "markdown",
   "id": "5e4811dd",
   "metadata": {},
   "source": [
    "### Mean Deviation / Mean Absolute Deviation\n",
    "Mean Absolute Deviation adalah rata rata perbedaan absolut antara setiap nilai dalam satu set nilai dan rata rata semua nilai dari set itu."
   ]
  },
  {
   "attachments": {
    "1_6sUnZ_8jIprIjvAl2xABtg.png": {
     "image/png": "[encoded data removed]"
    }
   },
   "cell_type": "markdown",
   "id": "4364ea50",
   "metadata": {},
   "source": [
    "![1_6sUnZ_8jIprIjvAl2xABtg.png](attachment:1_6sUnZ_8jIprIjvAl2xABtg.png)\n",
    "\n",
    "Dan jawabannya adalah ***23.75***"
   ]
  },
  {
   "cell_type": "markdown",
   "id": "e2474038",
   "metadata": {},
   "source": [
    "### Variance \n",
    "Adalah Kuadrat jarak rata rata antara setiap kuantitas dan mean. Variance adalah kuadrat dari standart deviasi. **Varians dihitung** dengan mencari selisih antara setiap titik data dan mean, mengkuadratkannya, menjumlahkannya dan kemudia mengambil rata rata dari angka angka itu."
   ]
  },
  {
   "attachments": {
    "1_gfkRdhKLrVNCJEA1jeG-8w.png": {
     "image/png": "[encoded data removed]"
    }
   },
   "cell_type": "markdown",
   "id": "8e7f118d",
   "metadata": {},
   "source": [
    "![1_gfkRdhKLrVNCJEA1jeG-8w.png](attachment:1_gfkRdhKLrVNCJEA1jeG-8w.png)\n",
    "\n",
    "Dan Jawabannya adalah 877.34"
   ]
  },
  {
   "cell_type": "markdown",
   "id": "f792478d",
   "metadata": {},
   "source": [
    "### Range\n",
    "Adalah salah satu teknik statistik deskriptif yang paling sederhana. Range adalah perbedaan antara nilai terendah dan tertinggi."
   ]
  },
  {
   "attachments": {
    "1_xP8y25SjrptUu958fSL_-A.png": {
     "image/png": "[encoded data removed]"
    }
   },
   "cell_type": "markdown",
   "id": "2f8fefa7",
   "metadata": {},
   "source": [
    "![1_xP8y25SjrptUu958fSL_-A.png](attachment:1_xP8y25SjrptUu958fSL_-A.png)\n",
    "\n",
    "Range adalah 99 - 12 = 87"
   ]
  },
  {
   "cell_type": "markdown",
   "id": "cdec6dd5",
   "metadata": {},
   "source": [
    "### Percentile\n",
    "Adalah cara untuk merepresentasikan posisi suatu nilai dalam kumpulan data. utnuk menghitung presentil, nilai dalam kumpulan data harus urut secara Ascending / Naik"
   ]
  },
  {
   "attachments": {
    "1_UFG60F5ND4ai7bKykC9kIA.png": {
     "image/png": "[encoded data removed]"
    }
   },
   "cell_type": "markdown",
   "id": "9d55781f",
   "metadata": {},
   "source": [
    "![1_UFG60F5ND4ai7bKykC9kIA.png](attachment:1_UFG60F5ND4ai7bKykC9kIA.png)"
   ]
  },
  {
   "cell_type": "markdown",
   "id": "cc88873a",
   "metadata": {},
   "source": [
    "Median dari kumpulan data diatas adalah 59 (mean dari 51 - 67) Memiliki 4 nilai yang lebih kecil dari dirinya sendiri, atau bisa disebut juga presentil ke-50 karena 50% dari total suku kurang dari 59. **Secara umum**, jika K adalah presentil ke-N, itu menyiratkan bahwa N% dari total suku kurang dari K"
   ]
  },
  {
   "cell_type": "markdown",
   "id": "c414f429",
   "metadata": {},
   "source": [
    "### Quartiles\n",
    "Adalah nilai yang membagi data kita menjadi beberapa quarters jika data diurutkan dalam urutan Ascending/Menarik"
   ]
  },
  {
   "attachments": {
    "1_y8wvnRzOTkDTpDHBQG3yHA.gif": {
     "image/gif": "[encoded data removed]"
    }
   },
   "cell_type": "markdown",
   "id": "66194989",
   "metadata": {},
   "source": [
    "![1_y8wvnRzOTkDTpDHBQG3yHA.gif](attachment:1_y8wvnRzOTkDTpDHBQG3yHA.gif)"
   ]
  },
  {
   "cell_type": "markdown",
   "id": "49bfe0f4",
   "metadata": {},
   "source": [
    "Terdapat 3 nilai kuartil : \n",
    "- Kuartil pertama berada pada 25 persentil \n",
    "- Kuartil kedua adalah 50 persentil \n",
    "- Kuartil ketiga adalah 75 persentil.\n",
    "\n",
    "Yang memiliki maksud seperti :\n",
    "- Kuartil pertama (Q1) adalah median dari separuh data bagian atas\n",
    "- Kuartil kedua (Q2) adalah median dari keseluruhan data\n",
    "- Kuartil ketiga (Q3) adalah median dari separuh data bagian bawah\n",
    "\n",
    "**Sebagai contoh :**"
   ]
  },
  {
   "attachments": {
    "1_6OZaopmdz7-vEDiZ4HhkGQ.png": {
     "image/png": "[encoded data removed]"
    }
   },
   "cell_type": "markdown",
   "id": "3414f208",
   "metadata": {},
   "source": [
    "![1_6OZaopmdz7-vEDiZ4HhkGQ.png](attachment:1_6OZaopmdz7-vEDiZ4HhkGQ.png)\n",
    "\n",
    "Jadi :\n",
    "- Q2 -> 67, Karena 50 persen dari seluruh data dan media\n",
    "- Q1 -> 41, Karena 25 persen dari data\n",
    "- Q3 -> 85, Karne 75 persen dari seluruh data"
   ]
  },
  {
   "cell_type": "markdown",
   "id": "fa7cb12b",
   "metadata": {},
   "source": [
    "### Skewness\n",
    "Adalah ukuran asimetri distribusi dari real-valued random varriable tentang meannya. Nilai kemiringan bisa positif, negatif atau undefined.\n",
    "\n",
    "Jadi ketika distribusi miring ke kiri, ekor disisi kiri kurva lebih panjang daripada ekor disisi kanan, dan mean lebih kecil dari mode. Situasi ini juga disebut negative skewness/kemiringan negatif. *Begitu juga sebaliknya*"
   ]
  },
  {
   "attachments": {
    "1_kIjrjUM73-K8agpGRdQ33w.jpg": {
     "image/jpeg": "[encoded data removed]"
    }
   },
   "cell_type": "markdown",
   "id": "8dcf4ca3",
   "metadata": {},
   "source": [
    "![1_kIjrjUM73-K8agpGRdQ33w.jpg](attachment:1_kIjrjUM73-K8agpGRdQ33w.jpg)"
   ]
  },
  {
   "attachments": {
    "1_tRwBmawQTvlrmOwTOVJFrQ.png": {
     "image/png": "[encoded data removed]"
    }
   },
   "cell_type": "markdown",
   "id": "db69dc3f",
   "metadata": {},
   "source": [
    "Untuk meghitung skewness coenfficient sample ada 2 metode :\n",
    "\n",
    "- Pearson First Coefficient of Skewness (Mode skewness)\n",
    "\n",
    "![1_tRwBmawQTvlrmOwTOVJFrQ.png](attachment:1_tRwBmawQTvlrmOwTOVJFrQ.png)"
   ]
  },
  {
   "attachments": {
    "1_y8s4DFbZ_rJbv0WJTTTrLw.png": {
     "image/png": "[encoded data removed]"
    }
   },
   "cell_type": "markdown",
   "id": "93a0cb39",
   "metadata": {},
   "source": [
    "- Pearson Second Coefficient of Skewness (Median skewness)\n",
    "\n",
    "![1_y8s4DFbZ_rJbv0WJTTTrLw.png](attachment:1_y8s4DFbZ_rJbv0WJTTTrLw.png)"
   ]
  },
  {
   "attachments": {
    "1__N2t_tWB7y3_N0ilzgTQng.jpg": {
     "image/jpeg": "[encoded data removed]"
    }
   },
   "cell_type": "markdown",
   "id": "6ad2dcab",
   "metadata": {},
   "source": [
    "### Kurtosis\n",
    "Adalah ukuran apakah data bersifat **heavy-tailed** (banyak outlier) atau **light outlier** (kurang outlier) relatif terhadap distribusi normal.\n",
    "\n",
    "![1__N2t_tWB7y3_N0ilzgTQng.jpg](attachment:1__N2t_tWB7y3_N0ilzgTQng.jpg)\n",
    "\n",
    "Terdapat 3 tipe :\n",
    "\n",
    "- Mesokurtic adalah distribusi yang memiliki kurtosis serupa dengan kurtosis berdistribusi normal, yaitu Normal.\n",
    "\n",
    "\n",
    "- Leptokurtic adalah distribusi yang memiliki kurtosis lebih besar dari distribusi Mesokurtik.\n",
    "\n",
    "\n",
    "- Platykurtic adalah distribusi yang memiliki kurtosis lebih rendah dari distribusi Mesokurtik.\n",
    "\n",
    "**Perbedaan utama antara skewness dan kurtosis** adalah skewness mengacu pada tingkat simetri, sedangkan kurtosis mengacu pada tingkat keberadaan pencilan dalam distribusi."
   ]
  },
  {
   "attachments": {
    "1_P5L0g1YjeRZchbJiFll-0g.png": {
     "image/png": "[encoded data removed]"
    }
   },
   "cell_type": "markdown",
   "id": "da7ee183",
   "metadata": {},
   "source": [
    "### Correlation\n",
    "Adalah teknik statistik yang dapat menunjukkan apakah kuat atau seberapa kuat variable terkait / realted\n",
    "\n",
    "![1_P5L0g1YjeRZchbJiFll-0g.png](attachment:1_P5L0g1YjeRZchbJiFll-0g.png)\n",
    "\n",
    "- Jika r mendekati 0, artinya tidak ada hubungan antar variable\n",
    "- Jika r positif berarti semakin besar satu variable, variable lainnya semakin besar\n",
    "- jika r negatif berarti semakin besar satu variable, variable yang lain akan semakin kecil"
   ]
  },
  {
   "cell_type": "markdown",
   "id": "19444718",
   "metadata": {},
   "source": [
    "## Practice on Python\n"
   ]
  },
  {
   "cell_type": "code",
   "execution_count": 1,
   "id": "7fe19f0c",
   "metadata": {},
   "outputs": [],
   "source": [
    "import math\n",
    "import statistics\n",
    "import numpy as np\n",
    "import scipy.stats\n",
    "import pandas as pd"
   ]
  },
  {
   "cell_type": "code",
   "execution_count": 2,
   "id": "a805d45c",
   "metadata": {},
   "outputs": [
    {
     "name": "stdout",
     "output_type": "stream",
     "text": [
      "[8.0, 1, 2.5, 4, 28.0]\n",
      "[8.0, 1, 2.5, nan, 4, 28.0]\n"
     ]
    }
   ],
   "source": [
    "x = [8.0, 1, 2.5, 4, 28.0]\n",
    "x_with_nan = [8.0, 1, 2.5, math.nan, 4, 28.0]\n",
    "\n",
    "print(x)\n",
    "print(x_with_nan)"
   ]
  },
  {
   "cell_type": "code",
   "execution_count": 3,
   "id": "28870050",
   "metadata": {},
   "outputs": [
    {
     "name": "stdout",
     "output_type": "stream",
     "text": [
      "[ 8.   1.   2.5  4.  28. ]\n",
      "0     8.0\n",
      "1     1.0\n",
      "2     2.5\n",
      "3     4.0\n",
      "4    28.0\n",
      "dtype: float64\n",
      "==================================================\n",
      "[ 8.   1.   2.5  nan  4.  28. ]\n",
      "0     8.0\n",
      "1     1.0\n",
      "2     2.5\n",
      "3     NaN\n",
      "4     4.0\n",
      "5    28.0\n",
      "dtype: float64\n"
     ]
    }
   ],
   "source": [
    "y, y_with_nan = np.array(x), np.array(x_with_nan)\n",
    "z, z_with_nan = pd.Series(x), pd.Series(x_with_nan)\n",
    "\n",
    "print(y)\n",
    "print(z)\n",
    "print('='*50)\n",
    "print(y_with_nan)\n",
    "print(z_with_nan)"
   ]
  },
  {
   "cell_type": "markdown",
   "id": "7538fda6",
   "metadata": {},
   "source": [
    "### Measures of Central Tendency\n",
    "Dalam sesi ini akan mempelajari cara mengidentifikasi dan menghitung measures of central tendency berupa :\n",
    "\n",
    "- Mean\n",
    "- Weighted mean\n",
    "- Geometric mean\n",
    "- Harmonic mean\n",
    "- Median\n",
    "- Mode"
   ]
  },
  {
   "cell_type": "markdown",
   "id": "561014f3",
   "metadata": {},
   "source": [
    "#### Mean"
   ]
  },
  {
   "cell_type": "code",
   "execution_count": 4,
   "id": "eed56b53",
   "metadata": {},
   "outputs": [
    {
     "data": {
      "text/plain": [
       "8.7"
      ]
     },
     "execution_count": 4,
     "metadata": {},
     "output_type": "execute_result"
    }
   ],
   "source": [
    "# Pure python\n",
    "mean_ = sum(x) / len(x)\n",
    "mean_"
   ]
  },
  {
   "cell_type": "code",
   "execution_count": 5,
   "id": "170447ed",
   "metadata": {},
   "outputs": [
    {
     "name": "stdout",
     "output_type": "stream",
     "text": [
      "nan\n"
     ]
    }
   ],
   "source": [
    "# With built-in function\n",
    "mean_ = statistics.mean(x_with_nan)\n",
    "print(mean_)"
   ]
  },
  {
   "cell_type": "code",
   "execution_count": 6,
   "id": "eeef6b15",
   "metadata": {},
   "outputs": [
    {
     "data": {
      "text/plain": [
       "8.7"
      ]
     },
     "execution_count": 6,
     "metadata": {},
     "output_type": "execute_result"
    }
   ],
   "source": [
    "mean_ = np.mean(y)\n",
    "mean_"
   ]
  },
  {
   "cell_type": "code",
   "execution_count": 7,
   "id": "11503860",
   "metadata": {},
   "outputs": [
    {
     "name": "stdout",
     "output_type": "stream",
     "text": [
      "nan\n",
      "nan\n"
     ]
    }
   ],
   "source": [
    "print(np.mean(y_with_nan))\n",
    "print(y_with_nan.mean())"
   ]
  },
  {
   "cell_type": "code",
   "execution_count": 8,
   "id": "3bb481ea",
   "metadata": {},
   "outputs": [
    {
     "data": {
      "text/plain": [
       "8.7"
      ]
     },
     "execution_count": 8,
     "metadata": {},
     "output_type": "execute_result"
    }
   ],
   "source": [
    "# Untuk mengabaikan nan\n",
    "np.nanmean(y_with_nan)"
   ]
  },
  {
   "cell_type": "code",
   "execution_count": 9,
   "id": "d1e8b06d",
   "metadata": {},
   "outputs": [
    {
     "data": {
      "text/plain": [
       "8.7"
      ]
     },
     "execution_count": 9,
     "metadata": {},
     "output_type": "execute_result"
    }
   ],
   "source": [
    "# pd.Series juga memiliki mehod .mean()\n",
    "mean_ = z.mean()\n",
    "mean_"
   ]
  },
  {
   "cell_type": "code",
   "execution_count": 10,
   "id": "44ea5c1d",
   "metadata": {},
   "outputs": [
    {
     "data": {
      "text/plain": [
       "nan"
      ]
     },
     "execution_count": 10,
     "metadata": {},
     "output_type": "execute_result"
    }
   ],
   "source": [
    "z_with_nan.mean(skipna=False)"
   ]
  },
  {
   "cell_type": "markdown",
   "id": "11fba79f",
   "metadata": {},
   "source": [
    "#### Weight mean \n",
    "Adalah generalisasi dari rata rata aritmatika yang memungkinkan kita untuk menentukan kontribusi relatif dari setiap titik data ke hasil. \n",
    "\n",
    "Wmean sangat berguna saat kita membutuhkan rata rata kumpulan data yang berisi item yang muncul dengan frekuensi tertentu. Misalnya terdapat himpunan dimana 20% dari seluruh item sama dengan 2, 50% item sama dengan 4 dan 30% sisanya sama dengan 8."
   ]
  },
  {
   "cell_type": "code",
   "execution_count": 11,
   "id": "58e2fb9a",
   "metadata": {},
   "outputs": [
    {
     "name": "stdout",
     "output_type": "stream",
     "text": [
      "6.95\n",
      "6.95\n"
     ]
    }
   ],
   "source": [
    "x = [8.0, 1, 2.5, 4, 28.0]\n",
    "w = [0.1, 0.2, 0.3, 0.25, 0.15]\n",
    "\n",
    "wmean = sum(w[i] * x[i] for i in range(len(x))) / sum(w)\n",
    "print(wmean)\n",
    "\n",
    "wmean = sum(x_ * w_ for (x_, w_) in zip(x, w)) / sum(w)\n",
    "print(wmean)"
   ]
  },
  {
   "cell_type": "code",
   "execution_count": 12,
   "id": "6c123509",
   "metadata": {},
   "outputs": [
    {
     "name": "stdout",
     "output_type": "stream",
     "text": [
      "6.95\n",
      "6.95\n"
     ]
    }
   ],
   "source": [
    "y, z, w = np.array(x), pd.Series(x), np.array(w)\n",
    "\n",
    "wmean = np.average(y, weights=w)\n",
    "print(wmean)\n",
    "\n",
    "wmean = np.average(z, weights=w)\n",
    "print(wmean)"
   ]
  },
  {
   "cell_type": "code",
   "execution_count": 13,
   "id": "ed6015a1",
   "metadata": {},
   "outputs": [
    {
     "data": {
      "text/plain": [
       "6.95"
      ]
     },
     "execution_count": 13,
     "metadata": {},
     "output_type": "execute_result"
    }
   ],
   "source": [
    "(w * y).sum() / w.sum()"
   ]
  },
  {
   "cell_type": "markdown",
   "id": "f66be1ad",
   "metadata": {},
   "source": [
    "#### Harmonic Mean \n",
    "Secara teknis, Pnegertian-nya adalah \"*the reciprocal of the average of the reciprocals*\"\n",
    "\n",
    "Reciprocal artinya adalah 1/value"
   ]
  },
  {
   "cell_type": "markdown",
   "id": "04e86ed5",
   "metadata": {},
   "source": [
    "Dalam contoh kasus, *We travel 10km at 60km/h, than another 10km at 20km/h, what is our average speed?*\n",
    "\n",
    "**Harmonic mean** juga bagus untuk handling outliers yang besar\n",
    "\n",
    "**Harmonic mean** = 2/(1/60 + 1/20) = **30km/h**\n",
    "\n",
    "**Arithmetic mean** adalah 2+4+6+100/4 = 28\n",
    "\n",
    "**Harmonic mean** adalah 4/(1/2 + 1/4 + 1/6 + 1/100) = 4.32"
   ]
  },
  {
   "cell_type": "code",
   "execution_count": 14,
   "id": "a7275bd4",
   "metadata": {},
   "outputs": [
    {
     "data": {
      "text/plain": [
       "2.7613412228796843"
      ]
     },
     "execution_count": 14,
     "metadata": {},
     "output_type": "execute_result"
    }
   ],
   "source": [
    "hmean = len(x) / sum(1 / item for item in x)\n",
    "hmean"
   ]
  },
  {
   "cell_type": "code",
   "execution_count": 15,
   "id": "5195d936",
   "metadata": {},
   "outputs": [
    {
     "data": {
      "text/plain": [
       "2.7613412228796843"
      ]
     },
     "execution_count": 15,
     "metadata": {},
     "output_type": "execute_result"
    }
   ],
   "source": [
    "hmean = statistics.harmonic_mean(x)\n",
    "hmean"
   ]
  },
  {
   "cell_type": "code",
   "execution_count": 16,
   "id": "5ace2305",
   "metadata": {},
   "outputs": [
    {
     "data": {
      "text/plain": [
       "2.7613412228796843"
      ]
     },
     "execution_count": 16,
     "metadata": {},
     "output_type": "execute_result"
    }
   ],
   "source": [
    "scipy.stats.hmean(y)"
   ]
  },
  {
   "cell_type": "markdown",
   "id": "0c048145",
   "metadata": {},
   "source": [
    "#### Geometric Mean\n",
    "Adalah akar ke-n dari hasil kali semua n elemen x, dalam dataset x:n√\n",
    "\n",
    "Contoh, *What is the Geometric Mean of 2 and 18?*\n",
    "- Pertama kita kalikan 2 * 18 = 36\n",
    "- Lalu ambil square root: √36 = 6\n",
    "\n",
    "Jika dalam *one line* = √(2*18) = 6\n",
    "\n",
    "Geometric mean berguna ketika kita ingin membandingkan berbagai hal dengan properti yang sangat berbeda.\n",
    "\n",
    "Contoh lain, *you want to buy a new camera*\n",
    "- One camera has a zoom of 200 and gets an 8 in reviews\n",
    "- The other has a zoom and gets a 6 in reviews\n",
    "\n",
    "**Aritmethic mean** = (200+8)/2 = **104** dan (250+6)/2 = **128**\n",
    "\n",
    "Zoom adalah angka yang sangat besar sehingga rating pengguna hilang\n",
    "\n",
    "- √(200 * 8) = **40**\n",
    "- √(250 * 6) = **38.7**\n",
    "\n",
    "Jadi, Meskipun zoomnya 50 lebih besar, rating pengguna yang lebih rendah (6) tetap menjadi property penting.\n",
    "\n"
   ]
  },
  {
   "attachments": {
    "py-stats-02.webp": {
     "image/webp": "[encoded data removed]"
    }
   },
   "cell_type": "markdown",
   "id": "3025e14c",
   "metadata": {},
   "source": [
    "![py-stats-02.webp](attachment:py-stats-02.webp)"
   ]
  },
  {
   "cell_type": "code",
   "execution_count": 17,
   "id": "79056217",
   "metadata": {},
   "outputs": [
    {
     "data": {
      "text/plain": [
       "4.677885674856041"
      ]
     },
     "execution_count": 17,
     "metadata": {},
     "output_type": "execute_result"
    }
   ],
   "source": [
    "gmean = 1\n",
    "\n",
    "for item in x :\n",
    "    gmean *= item\n",
    "    \n",
    "gmean **= 1 / len(x)\n",
    "gmean"
   ]
  },
  {
   "cell_type": "code",
   "execution_count": 18,
   "id": "c1545c5f",
   "metadata": {},
   "outputs": [
    {
     "data": {
      "text/plain": [
       "4.67788567485604"
      ]
     },
     "execution_count": 18,
     "metadata": {},
     "output_type": "execute_result"
    }
   ],
   "source": [
    "scipy.stats.gmean(y)"
   ]
  },
  {
   "attachments": {
    "py-stats-04.webp": {
     "image/webp": "[encoded data removed]"
    }
   },
   "cell_type": "markdown",
   "id": "33f89393",
   "metadata": {},
   "source": [
    "#### Median \n",
    "Adalah elemen tengah dari kumpulan data yang diurutkan. Jika kita memiliki titik data 2,4,1,8 dan 9 maka nilai mediannya adalah 4. yang berada ditengah dataset yang diurutkan (1, 2, 4, 8, 9)\n",
    "\n",
    "![py-stats-04.webp](attachment:py-stats-04.webp)\n",
    "\n",
    "**Perbedaan utama** antara perilaku mean dan median terkait dengan dataset outliers. Rata rata sangat dipengaruhi oleh outliers, tetapi median hanya bergantung pada outliers sedikit atau tidak sama sekali."
   ]
  },
  {
   "attachments": {
    "py-stats-05.b5c3dba0cd5f.png": {
     "image/png": "[encoded data removed]"
    }
   },
   "cell_type": "markdown",
   "id": "705fe39b",
   "metadata": {},
   "source": [
    "![py-stats-05.b5c3dba0cd5f.png](attachment:py-stats-05.b5c3dba0cd5f.png)\n",
    "\n",
    "Dataset atas memiliki item 1,2,5,4,8,28. Rata rata adalah 8.7 dan median adalah 5. dari sini kita dapat menyimpulkan bahwa :\n",
    "\n",
    "- Jika kita meningkatkan nilainya (pindahkan ke kanan), **mean akan naik** tetapi **median tidak akan pernah berubah**.\n",
    "- Jika kita menurunkan nilainya (pindahkan ke kiri), **mean akan turun** tetapi **median akan tetap sama** sampai nilai titik bergerak lebih besar atau sama dengan 4\n",
    "\n",
    "**Kita dapat membandingkan mean dan median sebagai salah satu cara untuk mendeteksi outlier dan asimetri dalam data kita**. Apakah nilai rata-rata atau nilai median lebih berguna bagi kita bergantung pada konteks masalah yang sedang dihadapi."
   ]
  },
  {
   "cell_type": "code",
   "execution_count": 19,
   "id": "d6690d06",
   "metadata": {},
   "outputs": [
    {
     "data": {
      "text/plain": [
       "4"
      ]
     },
     "execution_count": 19,
     "metadata": {},
     "output_type": "execute_result"
    }
   ],
   "source": [
    "n = len(x)\n",
    "if n % 2:\n",
    "    median_ = sorted(x)[round(0.5*(n-1))]\n",
    "else :\n",
    "    x_ord, index = sorted(x), round(0.5 * n)\n",
    "    median_ = 0.5 * (x_ord[index-1] + x_ord[index])\n",
    "    \n",
    "median_"
   ]
  },
  {
   "cell_type": "markdown",
   "id": "1c6b98ba",
   "metadata": {},
   "source": [
    "Jika dijabarkan\n",
    "- Versi yang diurutkan dari x adalah [1, 2.5, 4, 8.0, 28.0] jadi elemen ditengah adalah 4 (**median_high()**)\n",
    "- Versi yang diurutkan dari x[:-1] yaitu x tanpa item terakhir 28.0 jadi hanya [1, 2.5, 4, 8.0] elemen ditengah adalah 2.5 (**median_low()**)\n",
    "\n",
    "Sekarang dari 2 elemen tengah, yaitu 2.5 dan 4 rata ratanya adalah 3.25"
   ]
  },
  {
   "cell_type": "code",
   "execution_count": 20,
   "id": "5bdf2f2f",
   "metadata": {},
   "outputs": [
    {
     "data": {
      "text/plain": [
       "2.5"
      ]
     },
     "execution_count": 20,
     "metadata": {},
     "output_type": "execute_result"
    }
   ],
   "source": [
    "statistics.median_low(x[:-1])"
   ]
  },
  {
   "cell_type": "code",
   "execution_count": 21,
   "id": "e1f0324e",
   "metadata": {},
   "outputs": [
    {
     "data": {
      "text/plain": [
       "4"
      ]
     },
     "execution_count": 21,
     "metadata": {},
     "output_type": "execute_result"
    }
   ],
   "source": [
    "statistics.median_high(x[:-1])"
   ]
  },
  {
   "cell_type": "code",
   "execution_count": 22,
   "id": "fb5bcb3a",
   "metadata": {},
   "outputs": [
    {
     "name": "stdout",
     "output_type": "stream",
     "text": [
      "[8.0, 1, 2.5, nan, 4, 28.0]\n",
      "6.0\n",
      "4\n",
      "8.0\n"
     ]
    }
   ],
   "source": [
    "print(x_with_nan)\n",
    "print(statistics.median(x_with_nan))\n",
    "print(statistics.median_low(x_with_nan))\n",
    "print(statistics.median_high(x_with_nan))"
   ]
  },
  {
   "cell_type": "markdown",
   "id": "ae6c2839",
   "metadata": {},
   "source": [
    "#### Mode\n",
    "Adalah nilai dalam kumpulan data yang paling sering muncul. Jika tidak ada satupun nilai tersebut , maka set tersebut multimodal."
   ]
  },
  {
   "cell_type": "code",
   "execution_count": 23,
   "id": "88042370",
   "metadata": {},
   "outputs": [
    {
     "data": {
      "text/plain": [
       "2"
      ]
     },
     "execution_count": 23,
     "metadata": {},
     "output_type": "execute_result"
    }
   ],
   "source": [
    "u = [2, 3, 2, 2, 8, 12]\n",
    "v = [12, 15, 12, 15, 21, 15, 12]\n",
    "\n",
    "mode_ = max((u.count(item), item) for item in set(u))[1]\n",
    "mode_"
   ]
  },
  {
   "cell_type": "code",
   "execution_count": 24,
   "id": "56868918",
   "metadata": {},
   "outputs": [
    {
     "data": {
      "text/plain": [
       "2"
      ]
     },
     "execution_count": 24,
     "metadata": {},
     "output_type": "execute_result"
    }
   ],
   "source": [
    "mode_ = statistics.mode(u)\n",
    "mode_"
   ]
  },
  {
   "cell_type": "code",
   "execution_count": 25,
   "id": "cbd7c1fb",
   "metadata": {},
   "outputs": [
    {
     "data": {
      "text/plain": [
       "ModeResult(mode=array([2]), count=array([3]))"
      ]
     },
     "execution_count": 25,
     "metadata": {},
     "output_type": "execute_result"
    }
   ],
   "source": [
    "u, v = np.array(u), np.array(v)\n",
    "\n",
    "mode_ = scipy.stats.mode(u)\n",
    "mode_"
   ]
  },
  {
   "cell_type": "code",
   "execution_count": 26,
   "id": "54b85ead",
   "metadata": {},
   "outputs": [
    {
     "name": "stdout",
     "output_type": "stream",
     "text": [
      "[2]\n",
      "[3]\n"
     ]
    }
   ],
   "source": [
    "print(mode_.mode)\n",
    "print(mode_.count)"
   ]
  },
  {
   "cell_type": "code",
   "execution_count": 27,
   "id": "ed64af10",
   "metadata": {},
   "outputs": [
    {
     "name": "stdout",
     "output_type": "stream",
     "text": [
      "0    2\n",
      "dtype: int32\n"
     ]
    }
   ],
   "source": [
    "u = pd.Series(u)\n",
    "\n",
    "print(u.mode())"
   ]
  },
  {
   "cell_type": "markdown",
   "id": "4022d3f2",
   "metadata": {},
   "source": [
    "### Measure of Variability \n",
    "Tidak cukup untuk menggambarkan data. kita juga memerlukan **ukuran variabilitas yang mengukur penyebaran titik data**. Kita akan mempelajari tentang :\n",
    "\n",
    "- Variance\n",
    "- Standard Deviation\n",
    "- Skewness\n",
    "- Percentiles\n",
    "- Ranges"
   ]
  },
  {
   "cell_type": "markdown",
   "id": "b3ae4ff7",
   "metadata": {},
   "source": [
    "#### Variance\n",
    "Sample Variance mengukur penyebaran data. Sample Variance menunjukkan secara numerik seberapa jauh titik data dari mean."
   ]
  },
  {
   "attachments": {
    "py-stats-06.webp": {
     "image/webp": "[encoded data removed]"
    }
   },
   "cell_type": "markdown",
   "id": "4c382394",
   "metadata": {},
   "source": [
    "Gambar berikut menunjukkan mengapa penting untuk mempertimbangkan variance saat mendeskripsikan kumpulan data\n",
    "\n",
    "![py-stats-06.webp](attachment:py-stats-06.webp)"
   ]
  },
  {
   "cell_type": "markdown",
   "id": "d3113fcf",
   "metadata": {},
   "source": [
    "Terdapat 2 dataset dalam figure diatas :\n",
    "\n",
    "- **Titik hijau**: Dataset ini memiliki variance yang lebih kecil atau perbedaan yang lebih kecil dari mean. Dataset juga memiliki range yang lebih kecil antar item terbesar dan terkecil.\n",
    "\n",
    "\n",
    "- **Titik putih**: Dataset ini memiliki variance yang lebih besar atau perbedaan lebih besar dari rata rata. Dataset ini juga memiliki range lebih besar antara item terbesar dan terkecil.\n",
    "\n",
    "Perhatikan bahwa kedua dataset ini memiliki mean dan median yang sama, meskipun tampak berbeda secara signifikan. Baik mean maupun median tidak dapat menggambarkan perbedaan ini."
   ]
  },
  {
   "cell_type": "code",
   "execution_count": 28,
   "id": "a68385a4",
   "metadata": {},
   "outputs": [
    {
     "data": {
      "text/plain": [
       "123.19999999999999"
      ]
     },
     "execution_count": 28,
     "metadata": {},
     "output_type": "execute_result"
    }
   ],
   "source": [
    "n = len(x)\n",
    "\n",
    "mean_ = sum(x) / n\n",
    "\n",
    "var_ = sum((item - mean_)**2 for item in x) / (n - 1)\n",
    "var_"
   ]
  },
  {
   "cell_type": "code",
   "execution_count": 29,
   "id": "4ddd2c11",
   "metadata": {},
   "outputs": [
    {
     "data": {
      "text/plain": [
       "123.2"
      ]
     },
     "execution_count": 29,
     "metadata": {},
     "output_type": "execute_result"
    }
   ],
   "source": [
    "var_ = statistics.variance(x)\n",
    "var_"
   ]
  },
  {
   "cell_type": "code",
   "execution_count": 30,
   "id": "c15a0830",
   "metadata": {},
   "outputs": [
    {
     "data": {
      "text/plain": [
       "123.19999999999999"
      ]
     },
     "execution_count": 30,
     "metadata": {},
     "output_type": "execute_result"
    }
   ],
   "source": [
    "var_ = np.var(y, ddof=1)\n",
    "var_"
   ]
  },
  {
   "cell_type": "markdown",
   "id": "44d61af2",
   "metadata": {},
   "source": [
    ".var() memiliki parameter ddof dengan nilai default adalah 1, dapat dihilangkan jika menginginkan hasil yang berbeda terkait dengan nilai NaN dapat menggunakan skipna"
   ]
  },
  {
   "cell_type": "markdown",
   "id": "7985c940",
   "metadata": {},
   "source": [
    "#### Standard Deviation\n",
    "Adalah cara lain mengukur penyebaran data. **Standard Deviation seringkali lebih cocok daripada varians** karena memiliki satuan yang sama dengan data points."
   ]
  },
  {
   "cell_type": "code",
   "execution_count": 31,
   "id": "4443789d",
   "metadata": {},
   "outputs": [
    {
     "data": {
      "text/plain": [
       "11.099549540409285"
      ]
     },
     "execution_count": 31,
     "metadata": {},
     "output_type": "execute_result"
    }
   ],
   "source": [
    "std_ = var_ ** 0.5\n",
    "std_"
   ]
  },
  {
   "cell_type": "code",
   "execution_count": 32,
   "id": "3ced9cc7",
   "metadata": {},
   "outputs": [
    {
     "data": {
      "text/plain": [
       "11.099549540409287"
      ]
     },
     "execution_count": 32,
     "metadata": {},
     "output_type": "execute_result"
    }
   ],
   "source": [
    "std_ = statistics.stdev(x)\n",
    "std_"
   ]
  },
  {
   "cell_type": "code",
   "execution_count": 33,
   "id": "c7519a46",
   "metadata": {},
   "outputs": [
    {
     "data": {
      "text/plain": [
       "11.099549540409285"
      ]
     },
     "execution_count": 33,
     "metadata": {},
     "output_type": "execute_result"
    }
   ],
   "source": [
    "np.std(y, ddof=1)"
   ]
  },
  {
   "cell_type": "code",
   "execution_count": 34,
   "id": "f83d7a2c",
   "metadata": {},
   "outputs": [
    {
     "data": {
      "text/plain": [
       "11.099549540409285"
      ]
     },
     "execution_count": 34,
     "metadata": {},
     "output_type": "execute_result"
    }
   ],
   "source": [
    "z.std(ddof=1)"
   ]
  },
  {
   "cell_type": "markdown",
   "id": "2f11f676",
   "metadata": {},
   "source": [
    "#### Skewness \n",
    "Sampel Skewness mengukur asimetri sample data."
   ]
  },
  {
   "attachments": {
    "py-stats-07.92abf9f362b0.png": {
     "image/png": "[encoded data removed]"
    }
   },
   "cell_type": "markdown",
   "id": "99d73fed",
   "metadata": {},
   "source": [
    "Gambar sebelumnya menunjukkan 2 dataset yang cukup simetris / poin-nya memiliki jarak yang sama dari mean. sebaliknya gambar dibawah ini adalah 2 set asimetris\n",
    "![py-stats-07.92abf9f362b0.png](attachment:py-stats-07.92abf9f362b0.png)\n",
    "\n",
    "Biasanya **Negative skewness** menunjukkan bahwa ada ekor dominan di sisi kiri yang dapat kita lihat pada set pertama. **Positive skewness** sesuai dengan ekor yang lebih panjang di sisi kanan yang dapat kita lihat pada set kedua."
   ]
  },
  {
   "cell_type": "code",
   "execution_count": 35,
   "id": "bf77fef1",
   "metadata": {},
   "outputs": [
    {
     "data": {
      "text/plain": [
       "1.9470432273905929"
      ]
     },
     "execution_count": 35,
     "metadata": {},
     "output_type": "execute_result"
    }
   ],
   "source": [
    "x = [8, 1, 2.5, 4, 28]\n",
    "\n",
    "n = len(x)\n",
    "\n",
    "mean_ = sum(x) / n\n",
    "var_ = sum((item - mean_)**2 for item in x) / (n-1)\n",
    "std_ = var_ ** 0.5\n",
    "\n",
    "skew_ = (sum((item - mean_)**3 for item in x) * n / ((n-1) * (n-2) * std_**3))\n",
    "skew_"
   ]
  },
  {
   "cell_type": "code",
   "execution_count": 36,
   "id": "655ff767",
   "metadata": {},
   "outputs": [
    {
     "data": {
      "text/plain": [
       "1.9470432273905927"
      ]
     },
     "execution_count": 36,
     "metadata": {},
     "output_type": "execute_result"
    }
   ],
   "source": [
    "y, y_with_nan = np.array(x), np.array(x_with_nan)\n",
    "\n",
    "scipy.stats.skew(y, bias=False)"
   ]
  },
  {
   "cell_type": "code",
   "execution_count": 37,
   "id": "d6d55795",
   "metadata": {},
   "outputs": [
    {
     "data": {
      "text/plain": [
       "nan"
      ]
     },
     "execution_count": 37,
     "metadata": {},
     "output_type": "execute_result"
    }
   ],
   "source": [
    "scipy.stats.skew(y_with_nan, bias=False)"
   ]
  },
  {
   "cell_type": "code",
   "execution_count": 38,
   "id": "97b81154",
   "metadata": {},
   "outputs": [
    {
     "data": {
      "text/plain": [
       "1.9470432273905924"
      ]
     },
     "execution_count": 38,
     "metadata": {},
     "output_type": "execute_result"
    }
   ],
   "source": [
    "z, z_with_nan = pd.Series(x), pd.Series(x_with_nan)\n",
    "\n",
    "z.skew()"
   ]
  },
  {
   "cell_type": "code",
   "execution_count": 39,
   "id": "075c6d25",
   "metadata": {},
   "outputs": [
    {
     "data": {
      "text/plain": [
       "1.9470432273905924"
      ]
     },
     "execution_count": 39,
     "metadata": {},
     "output_type": "execute_result"
    }
   ],
   "source": [
    "z_with_nan.skew()"
   ]
  },
  {
   "cell_type": "markdown",
   "id": "061efb5e",
   "metadata": {},
   "source": [
    "#### Percentiles"
   ]
  },
  {
   "cell_type": "code",
   "execution_count": 40,
   "id": "2a58b393",
   "metadata": {},
   "outputs": [
    {
     "data": {
      "text/plain": [
       "[0.1, 8.0, 21.0]"
      ]
     },
     "execution_count": 40,
     "metadata": {},
     "output_type": "execute_result"
    }
   ],
   "source": [
    "x = [-5, -1.1, 0.1, 2, 8, 12.8, 21, 25.8, 41]\n",
    "\n",
    "statistics.quantiles(x, n=2)\n",
    "\n",
    "statistics.quantiles(x, n=4, method='inclusive')"
   ]
  },
  {
   "cell_type": "code",
   "execution_count": 41,
   "id": "c39c387c",
   "metadata": {},
   "outputs": [
    {
     "data": {
      "text/plain": [
       "-3.44"
      ]
     },
     "execution_count": 41,
     "metadata": {},
     "output_type": "execute_result"
    }
   ],
   "source": [
    "y = np.array(x)\n",
    "np.percentile(y, 5)"
   ]
  },
  {
   "cell_type": "code",
   "execution_count": 42,
   "id": "500761c6",
   "metadata": {},
   "outputs": [
    {
     "data": {
      "text/plain": [
       "34.919999999999995"
      ]
     },
     "execution_count": 42,
     "metadata": {},
     "output_type": "execute_result"
    }
   ],
   "source": [
    "np.percentile(y, 95)"
   ]
  },
  {
   "cell_type": "code",
   "execution_count": 43,
   "id": "696b5e0e",
   "metadata": {},
   "outputs": [
    {
     "data": {
      "text/plain": [
       "array([ 0.1,  8. , 21. ])"
      ]
     },
     "execution_count": 43,
     "metadata": {},
     "output_type": "execute_result"
    }
   ],
   "source": [
    "np.quantile(y, [0.25, 0.5, 0.75])"
   ]
  },
  {
   "cell_type": "code",
   "execution_count": 44,
   "id": "c93cdc21",
   "metadata": {},
   "outputs": [
    {
     "data": {
      "text/plain": [
       "array([2.5, 4. , 8. ])"
      ]
     },
     "execution_count": 44,
     "metadata": {},
     "output_type": "execute_result"
    }
   ],
   "source": [
    "np.nanquantile(y_with_nan, [0.25, 0.5, 0.75])"
   ]
  },
  {
   "cell_type": "code",
   "execution_count": 45,
   "id": "2dfed213",
   "metadata": {},
   "outputs": [
    {
     "data": {
      "text/plain": [
       "-3.44"
      ]
     },
     "execution_count": 45,
     "metadata": {},
     "output_type": "execute_result"
    }
   ],
   "source": [
    "z, z_with_nan = pd.Series(y), pd.Series(y_with_nan)\n",
    "z.quantile(.05)"
   ]
  },
  {
   "cell_type": "code",
   "execution_count": 46,
   "id": "87aed696",
   "metadata": {},
   "outputs": [
    {
     "data": {
      "text/plain": [
       "0.25     0.1\n",
       "0.50     8.0\n",
       "0.75    21.0\n",
       "dtype: float64"
      ]
     },
     "execution_count": 46,
     "metadata": {},
     "output_type": "execute_result"
    }
   ],
   "source": [
    "z.quantile([.25, .5, .75])"
   ]
  },
  {
   "cell_type": "markdown",
   "id": "2cf18695",
   "metadata": {},
   "source": [
    "#### Ranges "
   ]
  },
  {
   "cell_type": "code",
   "execution_count": 47,
   "id": "76af6e37",
   "metadata": {},
   "outputs": [
    {
     "data": {
      "text/plain": [
       "46.0"
      ]
     },
     "execution_count": 47,
     "metadata": {},
     "output_type": "execute_result"
    }
   ],
   "source": [
    "np.ptp(y)"
   ]
  },
  {
   "cell_type": "code",
   "execution_count": 48,
   "id": "06485695",
   "metadata": {},
   "outputs": [
    {
     "data": {
      "text/plain": [
       "nan"
      ]
     },
     "execution_count": 48,
     "metadata": {},
     "output_type": "execute_result"
    }
   ],
   "source": [
    "np.ptp(y_with_nan)"
   ]
  },
  {
   "cell_type": "code",
   "execution_count": 49,
   "id": "5d391f6a",
   "metadata": {},
   "outputs": [
    {
     "data": {
      "text/plain": [
       "46.0"
      ]
     },
     "execution_count": 49,
     "metadata": {},
     "output_type": "execute_result"
    }
   ],
   "source": [
    "np.amax(y) - np.amin(y)"
   ]
  },
  {
   "cell_type": "code",
   "execution_count": 50,
   "id": "c9b8094e",
   "metadata": {},
   "outputs": [
    {
     "data": {
      "text/plain": [
       "27.0"
      ]
     },
     "execution_count": 50,
     "metadata": {},
     "output_type": "execute_result"
    }
   ],
   "source": [
    "np.nanmax(y_with_nan) - np.nanmin(y_with_nan)"
   ]
  },
  {
   "cell_type": "code",
   "execution_count": 51,
   "id": "860702a8",
   "metadata": {},
   "outputs": [
    {
     "data": {
      "text/plain": [
       "20.9"
      ]
     },
     "execution_count": 51,
     "metadata": {},
     "output_type": "execute_result"
    }
   ],
   "source": [
    "quartiles = np.quantile(y, [.25, .75])\n",
    "quartiles[1] - quartiles[0]"
   ]
  },
  {
   "cell_type": "markdown",
   "id": "f15f2ab2",
   "metadata": {},
   "source": [
    "# Summmary \n",
    "SciPy dan Pandas menawarkan function yang berguna untuk mendapatkan descriptive statistic dengan cepat."
   ]
  },
  {
   "cell_type": "code",
   "execution_count": 52,
   "id": "5f0453f4",
   "metadata": {},
   "outputs": [
    {
     "data": {
      "text/plain": [
       "DescribeResult(nobs=9, minmax=(-5.0, 41.0), mean=11.622222222222222, variance=228.75194444444446, skewness=0.9249043136685094, kurtosis=0.14770623629658886)"
      ]
     },
     "execution_count": 52,
     "metadata": {},
     "output_type": "execute_result"
    }
   ],
   "source": [
    "result = scipy.stats.describe(y, ddof=1, bias=False)\n",
    "result"
   ]
  },
  {
   "cell_type": "code",
   "execution_count": 53,
   "id": "c49ab55e",
   "metadata": {},
   "outputs": [
    {
     "data": {
      "text/plain": [
       "-5.0"
      ]
     },
     "execution_count": 53,
     "metadata": {},
     "output_type": "execute_result"
    }
   ],
   "source": [
    "result.minmax[0]"
   ]
  },
  {
   "cell_type": "code",
   "execution_count": 54,
   "id": "979b17be",
   "metadata": {},
   "outputs": [
    {
     "data": {
      "text/plain": [
       "count     9.000000\n",
       "mean     11.622222\n",
       "std      15.124548\n",
       "min      -5.000000\n",
       "25%       0.100000\n",
       "50%       8.000000\n",
       "75%      21.000000\n",
       "max      41.000000\n",
       "dtype: float64"
      ]
     },
     "execution_count": 54,
     "metadata": {},
     "output_type": "execute_result"
    }
   ],
   "source": [
    "result = z.describe()\n",
    "result"
   ]
  },
  {
   "cell_type": "code",
   "execution_count": 55,
   "id": "3a865643",
   "metadata": {},
   "outputs": [
    {
     "data": {
      "text/plain": [
       "0.1"
      ]
     },
     "execution_count": 55,
     "metadata": {},
     "output_type": "execute_result"
    }
   ],
   "source": [
    "result['25%']"
   ]
  },
  {
   "attachments": {
    "1603097873027.webp": {
     "image/webp": "[encoded data removed]"
    }
   },
   "cell_type": "markdown",
   "id": "b1274882",
   "metadata": {},
   "source": [
    "# Measures of Correlation between Pairs of data\n",
    "kita sering kali perlu memeriksa hubungan / relation antara elemen yang sesuai dari 2 variable dalam kumpulan data. **katakanlah** terdapat 2 variable x dan y, dengan jumlah yang sama yaitu n. misal x1 dari x **sesuai** dengan y1 dari y, dan seterusnya. \n",
    "\n",
    "Kita akan melihat **Measures of Correlation** antara pasangan tersebut :\n",
    "\n",
    "- **Positive Correlation** exists when *larger* values of *x* correspond to larger values of *y* and vice versa.\n",
    "\n",
    "- **Weak Correlation** exists if there is no such apparent relationship.\n",
    "\n",
    "- **Negative Correlation** exists when *smaller* values of *x* correspond to larger values of *y* and vice versa.\n",
    "\n",
    "\n",
    "![1603097873027.webp](attachment:1603097873027.webp)\n",
    "\n",
    "Dua Statistik yang mengukur korelasi antar dataset adalah **Covariance** dan **Correlation Coefficient**"
   ]
  },
  {
   "cell_type": "code",
   "execution_count": 56,
   "id": "aa1644f1",
   "metadata": {},
   "outputs": [],
   "source": [
    "x = list(range(-10, 11))\n",
    "y = [0, 2, 2, 2, 2, 3, 3, 6, 7, 4, 7, 6, 6, 9, 4, 5, 5, 10, 11, 12, 14]\n",
    "x_, y_ = np.array(x), np.array(y)\n",
    "x__, y__ = pd.Series(x_), pd.Series(y_)"
   ]
  },
  {
   "cell_type": "markdown",
   "id": "0f8b0e82",
   "metadata": {},
   "source": [
    "## Covariance\n",
    "Adalah ukuran yang mengukur kekuatan dan arah hubungan antara sepasang variable :\n",
    "\n",
    "- jika korelasi-nya positif, lalu kovarians-nya positif.\n",
    "- jika korelasi-nya weak, lalu kovarians-nya mendekati 0.\n",
    "- jika korelasi-nya negatif, lalu kovarians-nya negatif."
   ]
  },
  {
   "cell_type": "markdown",
   "id": "fb75809b",
   "metadata": {},
   "source": [
    "1. Mencari nilai mean dari x dan y lalu menerapkan rumus matematika untuk covariance"
   ]
  },
  {
   "cell_type": "code",
   "execution_count": 57,
   "id": "99d3e5e5",
   "metadata": {},
   "outputs": [
    {
     "data": {
      "text/plain": [
       "19.95"
      ]
     },
     "execution_count": 57,
     "metadata": {},
     "output_type": "execute_result"
    }
   ],
   "source": [
    "# Pure Pyhton\n",
    "n = len(x)\n",
    "mean_x, mean_y = sum(x) / n, sum(y) / n\n",
    "cov_xy = (sum((x[k] - mean_x) * (y[k] - mean_y) for k in range(n)) / (n - 1))\n",
    "cov_xy"
   ]
  },
  {
   "cell_type": "code",
   "execution_count": 58,
   "id": "b37434f6",
   "metadata": {},
   "outputs": [
    {
     "data": {
      "text/plain": [
       "array([[38.5       , 19.95      ],\n",
       "       [19.95      , 13.91428571]])"
      ]
     },
     "execution_count": 58,
     "metadata": {},
     "output_type": "execute_result"
    }
   ],
   "source": [
    "# NumPy library\n",
    "cov_matrix = np.cov(x_, y_)\n",
    "cov_matrix"
   ]
  },
  {
   "cell_type": "markdown",
   "id": "6a1e4f43",
   "metadata": {},
   "source": [
    ".cov() memiliki parameter opsional *bias* dengan default *False*, dan *ddof* dengan default *None*. **Nilai default** cocok untuk mendapatkan *Sample covariance matrix*. Elemen kiri atas covariance matrix adalah **covariance dari x dan x, atau variance x**, Demikian pula elemen kanan bawah adalah **covariance y dan y atau variance y**"
   ]
  },
  {
   "cell_type": "code",
   "execution_count": 59,
   "id": "9b357c81",
   "metadata": {},
   "outputs": [
    {
     "data": {
      "text/plain": [
       "38.5"
      ]
     },
     "execution_count": 59,
     "metadata": {},
     "output_type": "execute_result"
    }
   ],
   "source": [
    "x_.var(ddof=1)"
   ]
  },
  {
   "cell_type": "code",
   "execution_count": 60,
   "id": "4b2834cd",
   "metadata": {},
   "outputs": [
    {
     "data": {
      "text/plain": [
       "13.914285714285711"
      ]
     },
     "execution_count": 60,
     "metadata": {},
     "output_type": "execute_result"
    }
   ],
   "source": [
    "y_.var(ddof=1)"
   ]
  },
  {
   "cell_type": "code",
   "execution_count": 61,
   "id": "6a2fc487",
   "metadata": {},
   "outputs": [
    {
     "data": {
      "text/plain": [
       "19.95"
      ]
     },
     "execution_count": 61,
     "metadata": {},
     "output_type": "execute_result"
    }
   ],
   "source": [
    "cov_xy = cov_matrix[0, 1]\n",
    "cov_xy"
   ]
  },
  {
   "cell_type": "code",
   "execution_count": 62,
   "id": "7c1d8542",
   "metadata": {},
   "outputs": [
    {
     "data": {
      "text/plain": [
       "19.95"
      ]
     },
     "execution_count": 62,
     "metadata": {},
     "output_type": "execute_result"
    }
   ],
   "source": [
    "cov_xy = cov_matrix[1, 0]\n",
    "cov_xy"
   ]
  },
  {
   "cell_type": "markdown",
   "id": "2a29ed2b",
   "metadata": {},
   "source": [
    "## Correlation Coefficient\n",
    "Adalah ukuran lain dari korelasi antar data, Sering dilambangkan *r*. Kita dapat menganggapnya sebagai **Standardized Covariance** yaitu :\n",
    "\n",
    "- **the value r > 0** indicates positif correlation\n",
    "- **the value r < 0** indicates negatif correlation\n",
    "- **the value r = 1** is the maximum possible value of *r*\n",
    "- **the value r = -1** is the minimum possible value of *r*\n",
    "- **the value r = 0** or when *r* is around zero, means the correlation between variables is weak"
   ]
  },
  {
   "cell_type": "code",
   "execution_count": 63,
   "id": "80cb4cda",
   "metadata": {},
   "outputs": [
    {
     "data": {
      "text/plain": [
       "0.861950005631606"
      ]
     },
     "execution_count": 63,
     "metadata": {},
     "output_type": "execute_result"
    }
   ],
   "source": [
    "var_x = sum((item - mean_x)**2 for item in x) / (n-1)\n",
    "var_y = sum((item - mean_y)**2 for item in y) / (n-1)\n",
    "std_x, std_y = var_x ** 0.5, var_y ** 0.5\n",
    "r = cov_xy / (std_x * std_y)\n",
    "r"
   ]
  },
  {
   "cell_type": "code",
   "execution_count": 64,
   "id": "e8c41619",
   "metadata": {},
   "outputs": [
    {
     "name": "stdout",
     "output_type": "stream",
     "text": [
      "0.8619500056316061\n",
      "5.122760847201135e-07\n"
     ]
    }
   ],
   "source": [
    "r, p = scipy.stats.pearsonr(x_, y_)\n",
    "print(r)\n",
    "print(p)"
   ]
  },
  {
   "cell_type": "code",
   "execution_count": 65,
   "id": "bcc04991",
   "metadata": {},
   "outputs": [
    {
     "data": {
      "text/plain": [
       "array([[1.        , 0.86195001],\n",
       "       [0.86195001, 1.        ]])"
      ]
     },
     "execution_count": 65,
     "metadata": {},
     "output_type": "execute_result"
    }
   ],
   "source": [
    "corr_matrix = np.corrcoef(x_, y_)\n",
    "corr_matrix"
   ]
  },
  {
   "cell_type": "code",
   "execution_count": 66,
   "id": "036e693d",
   "metadata": {},
   "outputs": [
    {
     "data": {
      "text/plain": [
       "LinregressResult(slope=0.5181818181818181, intercept=5.714285714285714, rvalue=0.861950005631606, pvalue=5.122760847201165e-07, stderr=0.06992387660074979, intercept_stderr=0.4234100995002589)"
      ]
     },
     "execution_count": 66,
     "metadata": {},
     "output_type": "execute_result"
    }
   ],
   "source": [
    "scipy.stats.linregress(x_, y_)"
   ]
  },
  {
   "cell_type": "code",
   "execution_count": 67,
   "id": "cc14557f",
   "metadata": {},
   "outputs": [
    {
     "data": {
      "text/plain": [
       "0.861950005631606"
      ]
     },
     "execution_count": 67,
     "metadata": {},
     "output_type": "execute_result"
    }
   ],
   "source": [
    "result = scipy.stats.linregress(x_, y_)\n",
    "r = result.rvalue\n",
    "r"
   ]
  },
  {
   "cell_type": "code",
   "execution_count": 68,
   "id": "484ddc9b",
   "metadata": {},
   "outputs": [
    {
     "data": {
      "text/plain": [
       "0.8619500056316061"
      ]
     },
     "execution_count": 68,
     "metadata": {},
     "output_type": "execute_result"
    }
   ],
   "source": [
    "# Pandas\n",
    "r = x__.corr(y__)\n",
    "r"
   ]
  },
  {
   "cell_type": "markdown",
   "id": "3dbb0104",
   "metadata": {},
   "source": [
    "## Working with 2D Data\n",
    "NumPy dan SciPy mnyediakan cara yang komprehensif untuk bekerja dengan data 2D, **Sedangkan** Pandas memiliki keals DataFrame khusus untuk menangani 2D labeled data."
   ]
  },
  {
   "cell_type": "markdown",
   "id": "ea3350fc",
   "metadata": {},
   "source": [
    "### Axes"
   ]
  },
  {
   "cell_type": "code",
   "execution_count": 69,
   "id": "4d037463",
   "metadata": {},
   "outputs": [
    {
     "data": {
      "text/plain": [
       "array([[ 1,  1,  1],\n",
       "       [ 2,  3,  1],\n",
       "       [ 4,  9,  2],\n",
       "       [ 8, 27,  4],\n",
       "       [16,  1,  1]])"
      ]
     },
     "execution_count": 69,
     "metadata": {},
     "output_type": "execute_result"
    }
   ],
   "source": [
    "a = np.array([\n",
    "                [1,1,1],\n",
    "                [2,3,1],\n",
    "                [4,9,2],\n",
    "                [8,27,4],\n",
    "                [16,1,1]\n",
    "             ])\n",
    "\n",
    "a"
   ]
  },
  {
   "cell_type": "code",
   "execution_count": 70,
   "id": "b6a9cd4b",
   "metadata": {},
   "outputs": [
    {
     "name": "stdout",
     "output_type": "stream",
     "text": [
      "5.4\n",
      "2.0\n",
      "53.40000000000001\n"
     ]
    }
   ],
   "source": [
    "print(np.mean(a))\n",
    "print(np.median(a))\n",
    "print(np.var(a, ddof=1))"
   ]
  },
  {
   "cell_type": "markdown",
   "id": "fc874cb4",
   "metadata": {},
   "source": [
    "- axis = None, calculate all data in array. \n",
    "- axis = 0, calculate across all rows. \n",
    "- axis = 1, calculate across all columns."
   ]
  },
  {
   "cell_type": "code",
   "execution_count": 71,
   "id": "2dcdaf38",
   "metadata": {},
   "outputs": [
    {
     "name": "stdout",
     "output_type": "stream",
     "text": [
      "[6.2 8.2 1.8]\n",
      "[ 1.  2.  5. 13.  6.]\n"
     ]
    }
   ],
   "source": [
    "print(np.mean(a, axis=0))\n",
    "print(np.mean(a, axis=1))"
   ]
  },
  {
   "cell_type": "code",
   "execution_count": 72,
   "id": "6d569be0",
   "metadata": {},
   "outputs": [
    {
     "name": "stdout",
     "output_type": "stream",
     "text": [
      "[4.         3.73719282 1.51571657]\n"
     ]
    }
   ],
   "source": [
    "print(scipy.stats.gmean(a, axis=0))"
   ]
  },
  {
   "cell_type": "code",
   "execution_count": 73,
   "id": "ffa01a4c",
   "metadata": {},
   "outputs": [
    {
     "name": "stdout",
     "output_type": "stream",
     "text": [
      "DescribeResult(nobs=5, minmax=(array([1, 1, 1]), array([16, 27,  4])), mean=array([6.2, 8.2, 1.8]), variance=array([ 37.2, 121.2,   1.7]), skewness=array([1.32531471, 1.79809454, 1.71439233]), kurtosis=array([1.30376344, 3.14969121, 2.66435986]))\n"
     ]
    }
   ],
   "source": [
    "print(scipy.stats.describe(a, axis=0, ddof=1, bias=False))"
   ]
  },
  {
   "cell_type": "code",
   "execution_count": 74,
   "id": "443c2edd",
   "metadata": {},
   "outputs": [
    {
     "name": "stdout",
     "output_type": "stream",
     "text": [
      "DescribeResult(nobs=15, minmax=(1, 27), mean=5.4, variance=53.40000000000001, skewness=2.264965290423389, kurtosis=5.212690982795767)\n"
     ]
    }
   ],
   "source": [
    "print(scipy.stats.describe(a, axis=None, ddof=1, bias=False))"
   ]
  },
  {
   "cell_type": "code",
   "execution_count": 75,
   "id": "b329ed89",
   "metadata": {},
   "outputs": [
    {
     "data": {
      "text/plain": [
       "array([6.2, 8.2, 1.8])"
      ]
     },
     "execution_count": 75,
     "metadata": {},
     "output_type": "execute_result"
    }
   ],
   "source": [
    "result = scipy.stats.describe(a, axis=0, ddof=1, bias=False)\n",
    "result.mean"
   ]
  },
  {
   "cell_type": "markdown",
   "id": "feba81da",
   "metadata": {},
   "source": [
    "### DataFrames"
   ]
  },
  {
   "cell_type": "code",
   "execution_count": 76,
   "id": "7d47b2b9",
   "metadata": {},
   "outputs": [
    {
     "data": {
      "text/html": [
       "<div>\n",
       "<style scoped>\n",
       "    .dataframe tbody tr th:only-of-type {\n",
       "        vertical-align: middle;\n",
       "    }\n",
       "\n",
       "    .dataframe tbody tr th {\n",
       "        vertical-align: top;\n",
       "    }\n",
       "\n",
       "    .dataframe thead th {\n",
       "        text-align: right;\n",
       "    }\n",
       "</style>\n",
       "<table border=\"1\" class=\"dataframe\">\n",
       "  <thead>\n",
       "    <tr style=\"text-align: right;\">\n",
       "      <th></th>\n",
       "      <th>A</th>\n",
       "      <th>B</th>\n",
       "      <th>C</th>\n",
       "    </tr>\n",
       "  </thead>\n",
       "  <tbody>\n",
       "    <tr>\n",
       "      <th>first</th>\n",
       "      <td>1</td>\n",
       "      <td>1</td>\n",
       "      <td>1</td>\n",
       "    </tr>\n",
       "    <tr>\n",
       "      <th>second</th>\n",
       "      <td>2</td>\n",
       "      <td>3</td>\n",
       "      <td>1</td>\n",
       "    </tr>\n",
       "    <tr>\n",
       "      <th>third</th>\n",
       "      <td>4</td>\n",
       "      <td>9</td>\n",
       "      <td>2</td>\n",
       "    </tr>\n",
       "    <tr>\n",
       "      <th>fourth</th>\n",
       "      <td>8</td>\n",
       "      <td>27</td>\n",
       "      <td>4</td>\n",
       "    </tr>\n",
       "    <tr>\n",
       "      <th>fifth</th>\n",
       "      <td>16</td>\n",
       "      <td>1</td>\n",
       "      <td>1</td>\n",
       "    </tr>\n",
       "  </tbody>\n",
       "</table>\n",
       "</div>"
      ],
      "text/plain": [
       "         A   B  C\n",
       "first    1   1  1\n",
       "second   2   3  1\n",
       "third    4   9  2\n",
       "fourth   8  27  4\n",
       "fifth   16   1  1"
      ]
     },
     "execution_count": 76,
     "metadata": {},
     "output_type": "execute_result"
    }
   ],
   "source": [
    "row_names = ['first', 'second', 'third', 'fourth', 'fifth']\n",
    "col_names = ['A', 'B', 'C']\n",
    "df = pd.DataFrame(a, index=row_names, columns=col_names)\n",
    "df"
   ]
  },
  {
   "cell_type": "code",
   "execution_count": 77,
   "id": "f161044b",
   "metadata": {
    "scrolled": true
   },
   "outputs": [
    {
     "data": {
      "text/plain": [
       "A    6.2\n",
       "B    8.2\n",
       "C    1.8\n",
       "dtype: float64"
      ]
     },
     "execution_count": 77,
     "metadata": {},
     "output_type": "execute_result"
    }
   ],
   "source": [
    "df.mean()"
   ]
  },
  {
   "cell_type": "code",
   "execution_count": 78,
   "id": "d63020c2",
   "metadata": {},
   "outputs": [
    {
     "data": {
      "text/plain": [
       "first      1\n",
       "second     2\n",
       "third      4\n",
       "fourth     8\n",
       "fifth     16\n",
       "Name: A, dtype: int32"
      ]
     },
     "execution_count": 78,
     "metadata": {},
     "output_type": "execute_result"
    }
   ],
   "source": [
    "df['A']"
   ]
  },
  {
   "cell_type": "code",
   "execution_count": 79,
   "id": "726e7851",
   "metadata": {},
   "outputs": [
    {
     "data": {
      "text/plain": [
       "6.2"
      ]
     },
     "execution_count": 79,
     "metadata": {},
     "output_type": "execute_result"
    }
   ],
   "source": [
    "df['A'].mean()"
   ]
  },
  {
   "cell_type": "code",
   "execution_count": 80,
   "id": "1ec09625",
   "metadata": {},
   "outputs": [
    {
     "data": {
      "text/plain": [
       "array([[ 1,  1,  1],\n",
       "       [ 2,  3,  1],\n",
       "       [ 4,  9,  2],\n",
       "       [ 8, 27,  4],\n",
       "       [16,  1,  1]])"
      ]
     },
     "execution_count": 80,
     "metadata": {},
     "output_type": "execute_result"
    }
   ],
   "source": [
    "df.values"
   ]
  },
  {
   "cell_type": "code",
   "execution_count": 81,
   "id": "d9354bb9",
   "metadata": {
    "scrolled": true
   },
   "outputs": [
    {
     "data": {
      "text/plain": [
       "array([[ 1,  1,  1],\n",
       "       [ 2,  3,  1],\n",
       "       [ 4,  9,  2],\n",
       "       [ 8, 27,  4],\n",
       "       [16,  1,  1]])"
      ]
     },
     "execution_count": 81,
     "metadata": {},
     "output_type": "execute_result"
    }
   ],
   "source": [
    "df.to_numpy()"
   ]
  },
  {
   "cell_type": "code",
   "execution_count": 82,
   "id": "78e5fabb",
   "metadata": {},
   "outputs": [
    {
     "data": {
      "text/html": [
       "<div>\n",
       "<style scoped>\n",
       "    .dataframe tbody tr th:only-of-type {\n",
       "        vertical-align: middle;\n",
       "    }\n",
       "\n",
       "    .dataframe tbody tr th {\n",
       "        vertical-align: top;\n",
       "    }\n",
       "\n",
       "    .dataframe thead th {\n",
       "        text-align: right;\n",
       "    }\n",
       "</style>\n",
       "<table border=\"1\" class=\"dataframe\">\n",
       "  <thead>\n",
       "    <tr style=\"text-align: right;\">\n",
       "      <th></th>\n",
       "      <th>A</th>\n",
       "      <th>B</th>\n",
       "      <th>C</th>\n",
       "    </tr>\n",
       "  </thead>\n",
       "  <tbody>\n",
       "    <tr>\n",
       "      <th>count</th>\n",
       "      <td>5.00000</td>\n",
       "      <td>5.000000</td>\n",
       "      <td>5.00000</td>\n",
       "    </tr>\n",
       "    <tr>\n",
       "      <th>mean</th>\n",
       "      <td>6.20000</td>\n",
       "      <td>8.200000</td>\n",
       "      <td>1.80000</td>\n",
       "    </tr>\n",
       "    <tr>\n",
       "      <th>std</th>\n",
       "      <td>6.09918</td>\n",
       "      <td>11.009087</td>\n",
       "      <td>1.30384</td>\n",
       "    </tr>\n",
       "    <tr>\n",
       "      <th>min</th>\n",
       "      <td>1.00000</td>\n",
       "      <td>1.000000</td>\n",
       "      <td>1.00000</td>\n",
       "    </tr>\n",
       "    <tr>\n",
       "      <th>25%</th>\n",
       "      <td>2.00000</td>\n",
       "      <td>1.000000</td>\n",
       "      <td>1.00000</td>\n",
       "    </tr>\n",
       "    <tr>\n",
       "      <th>50%</th>\n",
       "      <td>4.00000</td>\n",
       "      <td>3.000000</td>\n",
       "      <td>1.00000</td>\n",
       "    </tr>\n",
       "    <tr>\n",
       "      <th>75%</th>\n",
       "      <td>8.00000</td>\n",
       "      <td>9.000000</td>\n",
       "      <td>2.00000</td>\n",
       "    </tr>\n",
       "    <tr>\n",
       "      <th>max</th>\n",
       "      <td>16.00000</td>\n",
       "      <td>27.000000</td>\n",
       "      <td>4.00000</td>\n",
       "    </tr>\n",
       "  </tbody>\n",
       "</table>\n",
       "</div>"
      ],
      "text/plain": [
       "              A          B        C\n",
       "count   5.00000   5.000000  5.00000\n",
       "mean    6.20000   8.200000  1.80000\n",
       "std     6.09918  11.009087  1.30384\n",
       "min     1.00000   1.000000  1.00000\n",
       "25%     2.00000   1.000000  1.00000\n",
       "50%     4.00000   3.000000  1.00000\n",
       "75%     8.00000   9.000000  2.00000\n",
       "max    16.00000  27.000000  4.00000"
      ]
     },
     "execution_count": 82,
     "metadata": {},
     "output_type": "execute_result"
    }
   ],
   "source": [
    "df.describe()"
   ]
  },
  {
   "cell_type": "code",
   "execution_count": 83,
   "id": "3dc5898f",
   "metadata": {},
   "outputs": [
    {
     "data": {
      "text/plain": [
       "6.2"
      ]
     },
     "execution_count": 83,
     "metadata": {},
     "output_type": "execute_result"
    }
   ],
   "source": [
    "df.describe().at['mean', 'A']"
   ]
  },
  {
   "cell_type": "markdown",
   "id": "d8f250d0",
   "metadata": {},
   "source": [
    "### Visualizing Data "
   ]
  },
  {
   "cell_type": "code",
   "execution_count": 84,
   "id": "2f33fc71",
   "metadata": {},
   "outputs": [],
   "source": [
    "import matplotlib.pyplot as plt\n",
    "plt.style.use('ggplot')"
   ]
  },
  {
   "cell_type": "markdown",
   "id": "53f8fe72",
   "metadata": {},
   "source": [
    "#### Box Plots"
   ]
  },
  {
   "cell_type": "code",
   "execution_count": 85,
   "id": "0cee4d8b",
   "metadata": {},
   "outputs": [],
   "source": [
    "np.random.seed(seed=0)\n",
    "x = np.random.randn(1000)\n",
    "y = np.random.randn(100)\n",
    "z = np.random.randn(10)"
   ]
  },
  {
   "cell_type": "code",
   "execution_count": 86,
   "id": "c949bf59",
   "metadata": {},
   "outputs": [
    {
     "data": {
      "text/plain": [
       "<function matplotlib.pyplot.show(close=None, block=None)>"
      ]
     },
     "execution_count": 86,
     "metadata": {},
     "output_type": "execute_result"
    },
    {
     "data": {
      "image/png": "[encoded data removed]",
      "text/plain": [
       "<Figure size 432x288 with 1 Axes>"
      ]
     },
     "metadata": {},
     "output_type": "display_data"
    }
   ],
   "source": [
    "fig, ax = plt.subplots()\n",
    "ax.boxplot((x,y,z), vert=False, showmeans=True, meanline=True, labels=('x', 'y', 'z'), patch_artist=True, medianprops={'linewidth':2, 'color':'purple'}, meanprops={'linewidth':2, 'color':'red'})\n",
    "plt.show"
   ]
  },
  {
   "cell_type": "markdown",
   "id": "733963a4",
   "metadata": {},
   "source": [
    "#### Histograms "
   ]
  },
  {
   "cell_type": "code",
   "execution_count": 87,
   "id": "a430c403",
   "metadata": {},
   "outputs": [
    {
     "name": "stdout",
     "output_type": "stream",
     "text": [
      "[  9  20  70 146 217 239 160  86  38  15]\n",
      "[-3.04614305 -2.46559324 -1.88504342 -1.3044936  -0.72394379 -0.14339397\n",
      "  0.43715585  1.01770566  1.59825548  2.1788053   2.75935511]\n"
     ]
    }
   ],
   "source": [
    "hist, bin_edges = np.histogram(x, bins=10)\n",
    "print(hist)\n",
    "print(bin_edges)"
   ]
  },
  {
   "cell_type": "code",
   "execution_count": 88,
   "id": "e792dfa1",
   "metadata": {},
   "outputs": [
    {
     "data": {
      "image/png": "[encoded data removed]",
      "text/plain": [
       "<Figure size 432x288 with 1 Axes>"
      ]
     },
     "metadata": {},
     "output_type": "display_data"
    }
   ],
   "source": [
    "fig, ax = plt.subplots()\n",
    "ax.hist(x, bin_edges, cumulative=False)\n",
    "ax.set_xlabel('x')\n",
    "ax.set_ylabel('Frequency')\n",
    "plt.show()"
   ]
  },
  {
   "cell_type": "markdown",
   "id": "5eb855b4",
   "metadata": {},
   "source": [
    "#### Pie Charts"
   ]
  },
  {
   "cell_type": "code",
   "execution_count": 89,
   "id": "4d7878ce",
   "metadata": {},
   "outputs": [],
   "source": [
    "x, y, z = 128, 256, 1024"
   ]
  },
  {
   "cell_type": "code",
   "execution_count": 90,
   "id": "75d32fb1",
   "metadata": {},
   "outputs": [
    {
     "data": {
      "image/png": "[encoded data removed]",
      "text/plain": [
       "<Figure size 432x288 with 1 Axes>"
      ]
     },
     "metadata": {},
     "output_type": "display_data"
    }
   ],
   "source": [
    "fig, ax = plt.subplots()\n",
    "ax.pie((x,y,z), labels=('x', 'y', 'z'),  autopct='%1.1f%%')\n",
    "plt.show()"
   ]
  },
  {
   "cell_type": "markdown",
   "id": "6caeea42",
   "metadata": {},
   "source": [
    "#### Bar Charts"
   ]
  },
  {
   "cell_type": "code",
   "execution_count": 91,
   "id": "c03415d1",
   "metadata": {},
   "outputs": [],
   "source": [
    "x = np.arange(21)\n",
    "y = np.random.randint(21, size=21)\n",
    "err = np.random.randn(21)"
   ]
  },
  {
   "cell_type": "code",
   "execution_count": 92,
   "id": "d58bad45",
   "metadata": {},
   "outputs": [
    {
     "data": {
      "image/png": "[encoded data removed]",
      "text/plain": [
       "<Figure size 432x288 with 1 Axes>"
      ]
     },
     "metadata": {},
     "output_type": "display_data"
    }
   ],
   "source": [
    "fig, ax = plt.subplots()\n",
    "ax.bar(x, y, yerr = err)\n",
    "ax.set_xlabel('x')\n",
    "ax.set_ylabel('y')\n",
    "plt.show()"
   ]
  },
  {
   "cell_type": "markdown",
   "id": "0ea30e8d",
   "metadata": {},
   "source": [
    "####  X-Y Plots "
   ]
  },
  {
   "cell_type": "code",
   "execution_count": 93,
   "id": "6b71d1c4",
   "metadata": {},
   "outputs": [],
   "source": [
    "x = np.arange(21)\n",
    "y = 5 + 2 * x + 2 * np.random.randn(21)\n",
    "slope, intercept, r, *__ = scipy.stats.linregress(x, y)\n",
    "line = f'Regression line : y={intercept:.2f}+{slope:.2f}x, r={r:.2f}'"
   ]
  },
  {
   "cell_type": "code",
   "execution_count": 94,
   "id": "460a39fd",
   "metadata": {},
   "outputs": [
    {
     "data": {
      "image/png": "[encoded data removed]",
      "text/plain": [
       "<Figure size 432x288 with 1 Axes>"
      ]
     },
     "metadata": {},
     "output_type": "display_data"
    }
   ],
   "source": [
    "fig, ax = plt.subplots()\n",
    "ax.plot(x, y, linewidth=0, marker='s', label='Data points')\n",
    "ax.plot(x, intercept + slope * x, label=line)\n",
    "ax.set_xlabel('x')\n",
    "ax.set_ylabel('y')\n",
    "ax.legend(facecolor='white')\n",
    "plt.show()"
   ]
  },
  {
   "cell_type": "markdown",
   "id": "7306a673",
   "metadata": {},
   "source": [
    "#### Heatmap"
   ]
  },
  {
   "cell_type": "code",
   "execution_count": 95,
   "id": "76d78668",
   "metadata": {},
   "outputs": [
    {
     "data": {
      "image/png": "[encoded data removed]",
      "text/plain": [
       "<Figure size 432x288 with 1 Axes>"
      ]
     },
     "metadata": {},
     "output_type": "display_data"
    }
   ],
   "source": [
    "matrix = np.cov(x, y).round(decimals=2)\n",
    "fig, ax = plt.subplots()\n",
    "ax.imshow(matrix)\n",
    "ax.grid(False)\n",
    "ax.xaxis.set(ticks=(0,1), ticklabels=('x','y'))\n",
    "ax.yaxis.set(ticks=(0,1), ticklabels=('x','y'))\n",
    "ax.set_ylim(1.5, -0.5)\n",
    "for i in range(2) :\n",
    "    for j in range(2) :\n",
    "        ax.text(j,i, matrix[i,j], ha='center', va='center', color='w')\n",
    "    \n",
    "plt.show()"
   ]
  },
  {
   "cell_type": "code",
   "execution_count": 96,
   "id": "4d9bc307",
   "metadata": {},
   "outputs": [
    {
     "data": {
      "image/png": "[encoded data removed]",
      "text/plain": [
       "<Figure size 432x288 with 1 Axes>"
      ]
     },
     "metadata": {},
     "output_type": "display_data"
    }
   ],
   "source": [
    "matrix = np.corrcoef(x, y).round(decimals=2)\n",
    "fig, ax = plt.subplots()\n",
    "ax.imshow(matrix)\n",
    "ax.grid(False)\n",
    "ax.xaxis.set(ticks=(0,1), ticklabels=('x','y'))\n",
    "ax.yaxis.set(ticks=(0,1), ticklabels=('x','y'))\n",
    "ax.set_ylim(1.5, -0.5)\n",
    "for i in range(2) :\n",
    "    for j in range(2) :\n",
    "        ax.text(j,i, matrix[i,j], ha='center', va='center', color='w')\n",
    "    \n",
    "plt.show()"
   ]
  }
 ],
 "metadata": {
  "kernelspec": {
   "display_name": "Python 3 (ipykernel)",
   "language": "python",
   "name": "python3"
  },
  "language_info": {
   "codemirror_mode": {
    "name": "ipython",
    "version": 3
   },
   "file_extension": ".py",
   "mimetype": "text/x-python",
   "name": "python",
   "nbconvert_exporter": "python",
   "pygments_lexer": "ipython3",
   "version": "3.9.4"
  },
  "toc": {
   "base_numbering": 1,
   "nav_menu": {},
   "number_sections": true,
   "sideBar": true,
   "skip_h1_title": false,
   "title_cell": "Table of Contents",
   "title_sidebar": "Contents",
   "toc_cell": false,
   "toc_position": {
    "height": "calc(100% - 180px)",
    "left": "10px",
    "top": "150px",
    "width": "288.953px"
   },
   "toc_section_display": true,
   "toc_window_display": true
  }
 },
 "nbformat": 4,
 "nbformat_minor": 5
}
